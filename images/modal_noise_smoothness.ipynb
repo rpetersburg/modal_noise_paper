{
 "cells": [
  {
   "cell_type": "code",
   "execution_count": 2,
   "metadata": {
    "scrolled": true
   },
   "outputs": [
    {
     "name": "stdout",
     "output_type": "stream",
     "text": [
      "0.0894427191\n",
      "0.0145538498205\n"
     ]
    },
    {
     "data": {
      "image/png": "[encoded data removed]",
      "text/plain": [
       "<matplotlib.figure.Figure at 0x25d81d3b208>"
      ]
     },
     "metadata": {},
     "output_type": "display_data"
    }
   ],
   "source": [
    "%matplotlib inline\n",
    "import matplotlib.pyplot as plt\n",
    "import numpy as np\n",
    "from scipy.constants import speed_of_light, pi\n",
    "\n",
    "c_s = 2\n",
    "area = 33 * 132 * (10**-6)**2\n",
    "NA = 1/(2*3.0)\n",
    "\n",
    "def invert(wavelength):\n",
    "    return speed_of_light / wavelength\n",
    "\n",
    "def w_modes(wavelength):\n",
    "    return ((16/pi) * c_s * area * (NA / wavelength)**2)\n",
    "\n",
    "def f_modes(freq):\n",
    "    return ((16/pi) * c_s * area * (NA * freq / speed_of_light)**2)\n",
    "\n",
    "def d_f_modes(freq):\n",
    "    return ((16/pi) * c_s * area * 2 * freq * (NA/speed_of_light)**2)\n",
    "\n",
    "min_wavelength = 450 * 10**-9\n",
    "max_wavelength = 700 * 10**-9\n",
    "wavelength = np.arange(min_wavelength, max_wavelength, 10**-12)\n",
    "\n",
    "freq = np.arange(invert(max_wavelength), invert(min_wavelength), 14*10**9)\n",
    "\n",
    "fig, (ax1, ax2) = plt.subplots(2,1, sharex=True)\n",
    "ax1.plot(invert(freq)*(10**9), f_modes(freq))\n",
    "ax1.set_ylabel('modes')\n",
    "\n",
    "# ax2.plot(invert(freq)*(10**9), 1+1/np.gradient(f_modes(freq)), label='1+1/gradient')\n",
    "\n",
    "all_modes = f_modes(freq)\n",
    "test = all_modes[0]\n",
    "count = 0\n",
    "freqs = []\n",
    "counts = []\n",
    "for i in range(len(freq)):\n",
    "    if abs(all_modes[i]-test) < 1:\n",
    "        count += 1\n",
    "    else:\n",
    "        freqs.append(freq[i-1])\n",
    "        counts.append(count)\n",
    "        test = all_modes[i]\n",
    "        count = 1\n",
    "freqs = np.asarray(freqs[1:])\n",
    "counts = counts[1:]\n",
    "        \n",
    "ax2.plot(invert(freqs)*(10**9), counts, label='actual')\n",
    "ax2.set_xlabel('wavelength [nm]')\n",
    "ax2.set_ylabel('lines with same \\nnumber of modes')\n",
    "\n",
    "fig.tight_layout()\n",
    "fig.subplots_adjust(hspace=0)\n",
    "\n",
    "len(freq) / (max(counts) * 5)\n",
    "print(0.6 / np.sqrt(45))\n",
    "print(0.6 / np.sqrt(len(freq)/10))\n",
    "\n",
    "fig.savefig('modal_noise_smoothness_2.png')\n",
    "        "
   ]
  },
  {
   "cell_type": "code",
   "execution_count": 166,
   "metadata": {},
   "outputs": [
    {
     "data": {
      "text/plain": [
       "False"
      ]
     },
     "execution_count": 166,
     "metadata": {},
     "output_type": "execute_result"
    }
   ],
   "source": [
    "hasattr({}, '__dict__')"
   ]
  },
  {
   "cell_type": "code",
   "execution_count": null,
   "metadata": {
    "collapsed": true
   },
   "outputs": [],
   "source": []
  }
 ],
 "metadata": {
  "kernelspec": {
   "display_name": "Python 3",
   "language": "python",
   "name": "python3"
  },
  "language_info": {
   "codemirror_mode": {
    "name": "ipython",
    "version": 3
   },
   "file_extension": ".py",
   "mimetype": "text/x-python",
   "name": "python",
   "nbconvert_exporter": "python",
   "pygments_lexer": "ipython3",
   "version": "3.6.1"
  }
 },
 "nbformat": 4,
 "nbformat_minor": 2
}
