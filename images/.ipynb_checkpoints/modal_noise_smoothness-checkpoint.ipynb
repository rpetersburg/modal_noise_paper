{
 "cells": [
  {
   "cell_type": "code",
   "execution_count": 111,
   "metadata": {},
   "outputs": [
    {
     "name": "stdout",
     "output_type": "stream",
     "text": [
      "Complete\n"
     ]
    }
   ],
   "source": [
    "%matplotlib inline\n",
    "import matplotlib as mpl\n",
    "import matplotlib.pyplot as plt\n",
    "from fiber_properties import FiberImage\n",
    "from matplotlib import rc, cycler\n",
    "cmap = mpl.cm.get_cmap('inferno')\n",
    "import os\n",
    "import numpy as np\n",
    "from scipy.constants import speed_of_light, pi\n",
    "\n",
    "colors = ['black', 'red', 'orange', 'yellow', 'gray', 'pink']\n",
    "\n",
    "rc('figure', figsize=[3.39, 3.0])\n",
    "rc('text', usetex=True)\n",
    "rc('text.latex', preamble= [r'\\usepackage{siunitx}',   # i need upright \\micro symbols, but you need...\n",
    "                            r'\\sisetup{detect-all}',   # ...this to force siunitx to actually use your fonts\n",
    "#                             r'\\usepackage{helvet}',    # set the normal font here\n",
    "#                             r'\\usepackage{sansmath}',  # load up the sansmath so that math -> helvet\n",
    "#                             r'\\sansmath'               # <- tricky! -- gotta actually tell tex to use!\n",
    "                            ])\n",
    "\n",
    "rc('font', size=10, family='serif', serif=['Computer Modern Roman'])\n",
    "rc('axes', labelsize=10, linewidth=1, unicode_minus=True,\n",
    "   prop_cycle=cycler('color', colors))\n",
    "rc('legend', frameon=False, fontsize=10, labelspacing=0.5, numpoints=1)\n",
    "rc('lines', linewidth=1)\n",
    "\n",
    "rc('xtick', labelsize=10, direction='in', top=True)\n",
    "rc('xtick.major', size=4, width=1)\n",
    "rc('xtick.minor', visible=True, size=2, width=1)\n",
    "\n",
    "rc('ytick', labelsize=10, direction='in', right=True)\n",
    "rc('ytick.major', size=4, width=1)\n",
    "rc('ytick.minor', visible=True, size=2, width=1)\n",
    "\n",
    "print('Complete')\n"
   ]
  },
  {
   "cell_type": "code",
   "execution_count": 132,
   "metadata": {
    "collapsed": true
   },
   "outputs": [],
   "source": [
    "c_s = 2\n",
    "area = 33 * 132 * (10**-6)**2\n",
    "NA = 1/(2*3.0)\n",
    "\n",
    "def invert(wl_or_freq):\n",
    "    return speed_of_light / wl_or_freq\n",
    "\n",
    "def w_modes(wavelength, area):\n",
    "    return ((16/pi) * c_s * area * (NA / wavelength)**2)\n",
    "\n",
    "def d_w_modes(wavelength, area):\n",
    "    return (-(32/pi) * c_s * area * (NA)**2 / wavelength**3)\n",
    "\n",
    "def f_modes(freq, area):\n",
    "    return ((16/pi) * c_s * area * (NA * freq / speed_of_light)**2)\n",
    "\n",
    "def d_f_modes(freq, area):\n",
    "    return ((16/pi) * c_s * area * 2 * freq * (NA/speed_of_light)**2)\n",
    "\n",
    "min_wavelength = 380 * 10**-9\n",
    "max_wavelength = 1000 * 10**-9\n",
    "wavelength = np.arange(min_wavelength, max_wavelength, 10**-12)"
   ]
  },
  {
   "cell_type": "code",
   "execution_count": 133,
   "metadata": {
    "scrolled": true
   },
   "outputs": [
    {
     "name": "stdout",
     "output_type": "stream",
     "text": [
      "fixing final 3 frequencies\n"
     ]
    },
    {
     "data": {
      "image/png": "[encoded data removed]",
      "text/plain": [
       "<matplotlib.figure.Figure at 0x276260027b8>"
      ]
     },
     "metadata": {},
     "output_type": "display_data"
    }
   ],
   "source": [
    "freqs = np.arange(invert(max_wavelength), invert(min_wavelength), 14*10**9)\n",
    "\n",
    "fig, (ax1, ax2) = plt.subplots(2,1, sharex=True)\n",
    "ax1.plot(invert(freqs)*(10**9), f_modes(freqs, area), c=cmap(0.5))\n",
    "ax1.set_ylabel('propagated\\nmodes')\n",
    "\n",
    "# ax2.plot(invert(freqs)*(10**9), 1+1/np.gradient(f_modes(freqs, area)), label='1+1/gradient')\n",
    "\n",
    "all_modes = f_modes(freqs, area)\n",
    "test = all_modes[0]\n",
    "count = 0\n",
    "counts = []\n",
    "bandwidth = []\n",
    "for i in range(len(freqs)):\n",
    "    if abs(all_modes[i]-test) < 1:\n",
    "        count += 1\n",
    "    else:\n",
    "        for j in range(count):\n",
    "            counts.append(count)\n",
    "            bandwidth.append(invert(freqs[i-count])-invert(freqs[i-1]))\n",
    "        test = all_modes[i]\n",
    "        count = 1\n",
    "counts[0] = counts[1]\n",
    "print('fixing final {} frequencies'.format(len(freqs)-len(counts)))\n",
    "while len(counts) < len(freqs):\n",
    "    counts.append(counts[-1])\n",
    "    bandwidth.append(bandwidth[-1])\n",
    "        \n",
    "ax2.plot(invert(freqs)*(10**9), counts, label='actual', c=cmap(0.5))\n",
    "ax2.set_xlabel('wavelength (nm)')\n",
    "ax2.set_ylabel('lines with the\\nsame number\\nof modes')\n",
    "\n",
    "fig.tight_layout()\n",
    "fig.subplots_adjust(hspace=0)\n",
    "\n",
    "fig.savefig('modal_noise_smoothness2.pdf')\n",
    "        "
   ]
  },
  {
   "cell_type": "code",
   "execution_count": 134,
   "metadata": {},
   "outputs": [
    {
     "data": {
      "image/png": "[encoded data removed]",
      "text/plain": [
       "<matplotlib.figure.Figure at 0x27625fb6f28>"
      ]
     },
     "metadata": {},
     "output_type": "display_data"
    }
   ],
   "source": [
    "wavelengths = np.arange(min_wavelength, max_wavelength, 10**-10)\n",
    "\n",
    "fig, (ax1, ax2) = plt.subplots(2,1, sharex=True)\n",
    "\n",
    "ax1.plot(wavelengths*10**9, w_modes(wavelengths, area), c=cmap(0.5))\n",
    "ax2.plot(wavelengths*(10**9), -(10**9)/d_w_modes(wavelengths, area), c=cmap(0.5))\n",
    "# ax2.plot(invert(freqs)*(10**9), np.asarray(bandwidth)*(10**9), c='black')\n",
    "    \n",
    "# ax1.set_ylabel('$M_{rect}$')\n",
    "# ax1.set_ylim(1000, 9000)\n",
    "\n",
    "ax2.set_ylabel('$M_{rect}$ bandwidth (nm)')\n",
    "ax2.set_xlabel('wavelength (nm)')\n",
    "# ax2.set_ylim(0, .19)\n",
    "\n",
    "fig.tight_layout()\n",
    "fig.subplots_adjust(hspace=0)\n",
    "\n",
    "fig.savefig('modal_noise_smoothness.pdf')"
   ]
  },
  {
   "cell_type": "code",
   "execution_count": 136,
   "metadata": {},
   "outputs": [
    {
     "name": "stdout",
     "output_type": "stream",
     "text": [
      "0.037947331922\n",
      "7302.794143574738\n"
     ]
    }
   ],
   "source": [
    "area = 33 * 132 * (10**-6)**2\n",
    "N = w_modes(450*10**-9, area)-w_modes(700*10**-9, area)\n",
    "print(N)\n",
    "print(0.6 / np.sqrt(N))"
   ]
  },
  {
   "cell_type": "code",
   "execution_count": null,
   "metadata": {
    "collapsed": true
   },
   "outputs": [],
   "source": []
  }
 ],
 "metadata": {
  "kernelspec": {
   "display_name": "Python 3",
   "language": "python",
   "name": "python3"
  },
  "language_info": {
   "codemirror_mode": {
    "name": "ipython",
    "version": 3
   },
   "file_extension": ".py",
   "mimetype": "text/x-python",
   "name": "python",
   "nbconvert_exporter": "python",
   "pygments_lexer": "ipython3",
   "version": "3.6.1"
  }
 },
 "nbformat": 4,
 "nbformat_minor": 2
}
