{
 "cells": [
  {
   "cell_type": "code",
   "execution_count": 6,
   "metadata": {},
   "outputs": [
    {
     "name": "stdout",
     "output_type": "stream",
     "text": [
      "Complete\n"
     ]
    }
   ],
   "source": [
    "%matplotlib inline\n",
    "import os\n",
    "import numpy as np\n",
    "import matplotlib as mpl\n",
    "import matplotlib.pyplot as plt\n",
    "from matplotlib import rc, cycler\n",
    "cmap = mpl.cm.get_cmap('inferno')\n",
    "\n",
    "from fiber_properties import (frd, image_list, FiberImage, save_plot,\n",
    "                              plot_frd_encircled_energy,\n",
    "                              plot_frd_encircled_energy_comparison,\n",
    "                              plot_frd_input_output,\n",
    "                              plot_frd_energy_loss)\n",
    "\n",
    "colors = ['black', 'red', 'orange', 'yellow', 'gray', 'pink']\n",
    "\n",
    "rc('figure', figsize=[3.39, 3.0])\n",
    "rc('text', usetex=True)\n",
    "rc('text.latex', preamble= [r'\\usepackage{siunitx}',   # i need upright \\micro symbols, but you need...\n",
    "                            r'\\sisetup{detect-all}',   # ...this to force siunitx to actually use your fonts\n",
    "#                             r'\\usepackage{helvet}',    # set the normal font here\n",
    "#                             r'\\usepackage{sansmath}',  # load up the sansmath so that math -> helvet\n",
    "#                             r'\\sansmath'               # <- tricky! -- gotta actually tell tex to use!\n",
    "                            ])\n",
    "\n",
    "rc('font', size=10, family='serif', serif=['Computer Modern Roman'])\n",
    "rc('axes', labelsize=10, linewidth=1, unicode_minus=True,\n",
    "   prop_cycle=cycler('color', colors))\n",
    "rc('legend', frameon=False, fontsize=10, labelspacing=0.5, numpoints=1)\n",
    "rc('lines', linewidth=1)\n",
    "\n",
    "rc('xtick', labelsize=10, direction='in', top=True)\n",
    "rc('xtick.major', size=4, width=1)\n",
    "rc('xtick.minor', visible=True, size=2, width=1)\n",
    "\n",
    "rc('ytick', labelsize=10, direction='in', right=True)\n",
    "rc('ytick.major', size=4, width=1)\n",
    "rc('ytick.minor', visible=True, size=2, width=1)\n",
    "\n",
    "print('Complete')\n"
   ]
  },
  {
   "cell_type": "code",
   "execution_count": 7,
   "metadata": {},
   "outputs": [
    {
     "name": "stdout",
     "output_type": "stream",
     "text": [
      "Complete\n"
     ]
    }
   ],
   "source": [
    "NEW_OBJECTS = False\n",
    "THRESHOLD = 2000\n",
    "FOLDER = '../data/frd/'\n",
    "\n",
    "def image_list_frd(image_name, f_ratios, **kwargs):\n",
    "    return [image_list(image_name+str(f)+'/im_', **kwargs) for f in f_ratios]\n",
    "\n",
    "def ambient_files(folder):\n",
    "    return image_list(folder+'ambient/ff_')\n",
    "\n",
    "def input_files(folder, f):\n",
    "    return image_list(folder+'input_'+str(f)+'/ff_')\n",
    "\n",
    "def output_files(f):\n",
    "    return image_list(FOLDER+'/output_'+str(f)+'/ff_')\n",
    "\n",
    "def input_objects(folder, in_f):\n",
    "    for f in in_f:\n",
    "        if NEW_OBJECTS or 'ff_obj.pkl' not in os.listdir(folder+'input_'+str(f)):\n",
    "#             print('Saving ' + folder + 'input_' + str(f))\n",
    "            im_obj = FiberImage(input_files(folder, f),\n",
    "                                ambient=ambient_files(folder),\n",
    "                                input_fnum=f,\n",
    "                                threshold=THRESHOLD,\n",
    "                                camera='ff')\n",
    "            im_obj.save_object(folder+'input_'+str(f)+'/ff_obj.pkl')\n",
    "    return [folder+'input_'+str(f)+'/ff_obj.pkl' for f in in_f]\n",
    "\n",
    "def output_objects(out_f):\n",
    "    for f in out_f:\n",
    "        if NEW_OBJECTS or 'ff_obj.pkl' not in os.listdir(FOLDER+'output_'+str(f)):\n",
    "#             print('Saving output_' + str(f))\n",
    "            im_obj = FiberImage(output_files(f),\n",
    "                                output_fnum=f,\n",
    "                                threshold=THRESHOLD,\n",
    "                                camera='ff')\n",
    "            im_obj.save_object(FOLDER+'output_'+str(f)+'/ff_obj.pkl')\n",
    "    return [FOLDER+'output_'+str(f)+'/ff_obj.pkl' for f in out_f]\n",
    "        \n",
    "class Container(object):\n",
    "    def __init__(self, name, folder, in_f, out_f):\n",
    "        self.name = name\n",
    "        self.folder = folder\n",
    "        self.in_objs = input_objects(folder, in_f)\n",
    "        self.out_objs = output_objects(out_f)\n",
    "        self.output = None\n",
    "        \n",
    "print('Complete')\n",
    "        "
   ]
  },
  {
   "cell_type": "code",
   "execution_count": 8,
   "metadata": {},
   "outputs": [
    {
     "name": "stdout",
     "output_type": "stream",
     "text": [
      "Calculating FRD for unagitated fiber\n",
      "Calculating FRD for agitated fiber\n",
      "Complete\n"
     ]
    }
   ],
   "source": [
    "NEW_DATA = False\n",
    "TITLE = 'Modal Noise'\n",
    "TESTS = [Container('unagitated', FOLDER+'unagitated/', [3.0, 4.0, 5.0], [3.0, 4.0, 5.0]),\n",
    "         Container('agitated', FOLDER+'agitated/', [3.0, 4.0, 5.0], [3.0, 4.0, 5.0])]\n",
    "for test in TESTS:\n",
    "    print('Calculating FRD for '+ test.name + ' fiber')\n",
    "    test.output = frd(test.in_objs, test.out_objs,\n",
    "                      cal_method='full', save_objs=True,\n",
    "                      new=NEW_DATA)\n",
    "    \n",
    "\n",
    "frd_outputs = [test.output for test in TESTS]\n",
    "labels = [test.name for test in TESTS]\n",
    "\n",
    "print('Complete')\n"
   ]
  },
  {
   "cell_type": "code",
   "execution_count": 9,
   "metadata": {},
   "outputs": [
    {
     "name": "stdout",
     "output_type": "stream",
     "text": [
      "Complete\n"
     ]
    },
    {
     "data": {
      "image/png": "[encoded data removed]",
      "text/plain": [
       "<matplotlib.figure.Figure at 0x17485240c88>"
      ]
     },
     "metadata": {},
     "output_type": "display_data"
    }
   ],
   "source": [
    "fig, axes = plt.subplots(1, len(TESTS), figsize=[6.78, 3.0])\n",
    "\n",
    "for test, ax in zip(TESTS, axes):\n",
    "    frd_info = test.output[0]\n",
    "    \n",
    "    for i in range(len(frd_info.input_fnum)):\n",
    "        ax.plot(frd_info.encircled_energy_fnum[i],\n",
    "                frd_info.encircled_energy[i],\n",
    "                label=str(frd_info.input_fnum[i]))\n",
    "        ax.set_xlabel('output f-ratio')\n",
    "        ax.set_ylabel('encircled energy')\n",
    "        ax.set_ylim(ymax=1)\n",
    "        ax.legend(loc='best', title='input f-ratio')\n",
    "        ax.set_title(test.name)\n",
    "    \n",
    "#     plot_frd_encircled_energy(test.output)\n",
    "#     save_plot(test.folder + test.name + ' FRD.png')\n",
    "\n",
    "print('Complete')\n"
   ]
  },
  {
   "cell_type": "code",
   "execution_count": 10,
   "metadata": {},
   "outputs": [
    {
     "data": {
      "image/png": "[encoded data removed]",
      "text/plain": [
       "<matplotlib.figure.Figure at 0x17485899cf8>"
      ]
     },
     "metadata": {},
     "output_type": "display_data"
    }
   ],
   "source": [
    "fig, ax = plt.subplots(figsize=[3.39, 3.0])\n",
    "\n",
    "markers = ['o', 's', '^', 'X', 'P']\n",
    "colors = [cmap(i) for i in np.linspace(0.0, 0.5, 2)]\n",
    "\n",
    "for output, label, marker, color in zip(frd_outputs, labels, markers, colors):\n",
    "    frd_info = output[0]\n",
    "    magn = output[1]\n",
    "    magn_list = output[2]\n",
    "    magn_error = output[3]\n",
    "    \n",
    "    xerr = [np.sqrt(0.1**2 + (magn_error*f)**2) for f in frd_info.input_fnum]\n",
    "    yerr = \n",
    "\n",
    "    ax.errorbar(frd_info.input_fnum,\n",
    "                frd_info.energy_loss,\n",
    "                xerr=xerr,\n",
    "                yerr=1, label=label,\n",
    "                marker=marker, color=color)\n",
    "\n",
    "ax.set_xlabel('input and output f-ratio')\n",
    "ax.set_ylabel('energy loss (\\%)')\n",
    "ax.grid()\n",
    "ax.legend(frameon=True, loc=2)\n",
    "\n",
    "fig.tight_layout()\n",
    "fig.savefig('frd_energy_loss.pdf')\n"
   ]
  },
  {
   "cell_type": "code",
   "execution_count": 11,
   "metadata": {},
   "outputs": [
    {
     "data": {
      "image/png": "[encoded data removed]",
      "text/plain": [
       "<matplotlib.figure.Figure at 0x17485888240>"
      ]
     },
     "metadata": {},
     "output_type": "display_data"
    }
   ],
   "source": [
    "fig, ax = plt.subplots(figsize=[3.39, 3.0])\n",
    "\n",
    "colors = [cmap(0), cmap(0.5)]\n",
    "markers = ['o', 's']\n",
    "\n",
    "for output, label, marker, color in zip(frd_outputs, labels, markers, colors):\n",
    "    frd_info = output[0]\n",
    "    magn_error = output[3]\n",
    "    xerr = [np.sqrt(0.1**2 + (magn_error*f)**2) for f in frd_info.input_fnum]\n",
    "    yerr = [np.sqrt(0.1**2 + (magn_error*f)**2) for f in frd_info.output_fnum]\n",
    "\n",
    "    ax.errorbar(frd_info.input_fnum,\n",
    "                frd_info.output_fnum,\n",
    "                xerr=xerr,\n",
    "                yerr=yerr,\n",
    "                label=label, marker=marker, color=color)\n",
    "    \n",
    "ax.set_xlabel('input focal ratio')\n",
    "ax.set_ylabel('output focal ratio')\n",
    "ax.legend()\n",
    "\n",
    "fig.tight_layout()\n",
    "fig.savefig('frd_input_output.pdf')\n"
   ]
  },
  {
   "cell_type": "code",
   "execution_count": 20,
   "metadata": {},
   "outputs": [
    {
     "name": "stdout",
     "output_type": "stream",
     "text": [
      "unagitated\n",
      "3.0: 3.3 +/- 0.1\n",
      "4.0: 3.8 +/- 0.1\n",
      "5.0: 4.2 +/- 0.1\n",
      "agitated\n",
      "3.0: 3.3 +/- 0.1\n",
      "4.0: 3.8 +/- 0.1\n",
      "5.0: 4.2 +/- 0.1\n"
     ]
    }
   ],
   "source": [
    "for output, label in zip(frd_outputs, labels):\n",
    "    print(label)\n",
    "    inp = output[0].input_fnum\n",
    "    out = output[0].output_fnum\n",
    "    err = np.sqrt(output[3]**2 + 0.1**2)\n",
    "    for i in range(3):\n",
    "        print(r'{}: {} +/- {}'.format(round(inp[i], 1), round(out[i], 1), round(err, 1)))"
   ]
  },
  {
   "cell_type": "code",
   "execution_count": null,
   "metadata": {
    "collapsed": true
   },
   "outputs": [],
   "source": []
  }
 ],
 "metadata": {
  "kernelspec": {
   "display_name": "Python 3",
   "language": "python",
   "name": "python3"
  },
  "language_info": {
   "codemirror_mode": {
    "name": "ipython",
    "version": 3
   },
   "file_extension": ".py",
   "mimetype": "text/x-python",
   "name": "python",
   "nbconvert_exporter": "python",
   "pygments_lexer": "ipython3",
   "version": "3.6.1"
  }
 },
 "nbformat": 4,
 "nbformat_minor": 2
}
